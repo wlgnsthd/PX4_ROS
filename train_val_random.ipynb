{
 "cells": [
  {
   "cell_type": "code",
   "execution_count": 3,
   "metadata": {},
   "outputs": [],
   "source": [
    "# python3\n",
    "import glob, os, shutil\n",
    "import numpy as np\n",
    "from sklearn.model_selection import train_test_split\n",
    "\n",
    "# put your own path here\n",
    "dataset_path = './' # where images and label files exist\n",
    "absolute_path = r'C:\\Users\\ETRI\\Desktop\\Dataset\\train_val_random' # modify this\n",
    "\n",
    "# Percentage of images to be used for the validation set\n",
    "percentage_val = 20;\n",
    "\n",
    "# Create and/or truncate train.txt and validation.txt\n",
    "file_train = open('train.txt', 'w')  \n",
    "file_val = open('valid.txt', 'w')\n",
    "\n",
    "# Make directory train/valid\n",
    "train_new_name = 'train_new'\n",
    "valid_new_name = 'valid_new'\n",
    "os.makedirs(dataset_path+train_new_name,exist_ok=True)\n",
    "os.makedirs(dataset_path+valid_new_name,exist_ok=True)\n",
    "\n"
   ]
  },
  {
   "cell_type": "code",
   "execution_count": 5,
   "metadata": {},
   "outputs": [],
   "source": [
    "d=np.array(list(glob.iglob(os.path.join(dataset_path, \"*.jpg\"))))\n",
    "d_train,d_valid=train_test_split(d,test_size=percentage_val/100,shuffle=True,random_state=1004)"
   ]
  },
  {
   "cell_type": "code",
   "execution_count": 6,
   "metadata": {},
   "outputs": [],
   "source": [
    "# Populate train.txt and validation.txt in random\n",
    "for pathAndFilename in d_valid:\n",
    "    title, ext = os.path.splitext(os.path.basename(pathAndFilename))\n",
    "    file_val.write(absolute_path + '/valid'+ '/'  + title + '.jpg' + \"\\n\")\n",
    "    shutil.copy(dataset_path  + title + '.jpg', dataset_path + valid_new_name  )\n",
    "    shutil.copy(dataset_path  + title + '.txt', dataset_path + valid_new_name  )\n",
    "\n",
    "for pathAndFilename in d_train:\n",
    "    title, ext = os.path.splitext(os.path.basename(pathAndFilename))\n",
    "    file_train.write(absolute_path + '/train'+ '/'+ title + '.jpg' + \"\\n\")\n",
    "    shutil.copy(dataset_path  + title + '.jpg', dataset_path + train_new_name  )\n",
    "    shutil.copy(dataset_path  + title + '.txt', dataset_path + train_new_name  )"
   ]
  },
  {
   "cell_type": "code",
   "execution_count": null,
   "metadata": {},
   "outputs": [],
   "source": [
    "# Populate train.txt and validation.txt in order\n",
    "# counter = 1  \n",
    "# index_val = round(100 / percentage_val)  \n",
    "# for pathAndFilename in glob.iglob(os.path.join(dataset_path, \"*.jpg\")):  \n",
    "#     title, ext = os.path.splitext(os.path.basename(pathAndFilename))\n",
    "\n",
    "#     if counter == index_val+1:#valid path\n",
    "#         counter = 1\n",
    "#         file_val.write(absolute_path + '/valid'+ '/'  + title + '.jpg' + \"\\n\")\n",
    "#         shutil.copy(dataset_path  + title + '.jpg', dataset_path + valid_new_name  )\n",
    "#         shutil.copy(dataset_path  + title + '.txt', dataset_path + valid_new_name  )\n",
    "\n",
    "#     else:# train path\n",
    "#         file_train.write(absolute_path + '/train'+ '/'+ title + '.jpg' + \"\\n\")\n",
    "#         shutil.copy(dataset_path  + title + '.jpg', dataset_path + train_new_name  )\n",
    "#         shutil.copy(dataset_path  + title + '.txt', dataset_path + train_new_name  )\n",
    "#         counter = counter + 1\n"
   ]
  }
 ],
 "metadata": {
  "kernelspec": {
   "display_name": "Python 3",
   "language": "python",
   "name": "python3"
  },
  "language_info": {
   "codemirror_mode": {
    "name": "ipython",
    "version": 3
   },
   "file_extension": ".py",
   "mimetype": "text/x-python",
   "name": "python",
   "nbconvert_exporter": "python",
   "pygments_lexer": "ipython3",
   "version": "3.7.6"
  }
 },
 "nbformat": 4,
 "nbformat_minor": 4
}
