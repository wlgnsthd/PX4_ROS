{
 "cells": [
  {
   "cell_type": "code",
   "execution_count": 8,
   "metadata": {},
   "outputs": [
    {
     "name": "stdout",
     "output_type": "stream",
     "text": [
      "Requirement already satisfied: imgaug in c:\\users\\etri\\anaconda3\\lib\\site-packages (0.4.0)\n",
      "Requirement already satisfied: matplotlib in c:\\users\\etri\\anaconda3\\lib\\site-packages (from imgaug) (3.1.3)\n",
      "Requirement already satisfied: Pillow in c:\\users\\etri\\anaconda3\\lib\\site-packages (from imgaug) (7.0.0)\n",
      "Requirement already satisfied: six in c:\\users\\etri\\anaconda3\\lib\\site-packages (from imgaug) (1.14.0)\n",
      "Requirement already satisfied: numpy>=1.15 in c:\\users\\etri\\anaconda3\\lib\\site-packages (from imgaug) (1.18.1)\n",
      "Requirement already satisfied: scipy in c:\\users\\etri\\anaconda3\\lib\\site-packages (from imgaug) (1.4.1)\n",
      "Requirement already satisfied: scikit-image>=0.14.2 in c:\\users\\etri\\anaconda3\\lib\\site-packages (from imgaug) (0.16.2)\n",
      "Requirement already satisfied: imageio in c:\\users\\etri\\anaconda3\\lib\\site-packages (from imgaug) (2.6.1)\n",
      "Requirement already satisfied: Shapely in c:\\users\\etri\\anaconda3\\lib\\site-packages (from imgaug) (1.8.2)\n",
      "Requirement already satisfied: opencv-python in c:\\users\\etri\\anaconda3\\lib\\site-packages (from imgaug) (4.6.0.66)\n",
      "Requirement already satisfied: cycler>=0.10 in c:\\users\\etri\\anaconda3\\lib\\site-packages (from matplotlib->imgaug) (0.10.0)\n",
      "Requirement already satisfied: kiwisolver>=1.0.1 in c:\\users\\etri\\anaconda3\\lib\\site-packages (from matplotlib->imgaug) (1.1.0)\n",
      "Requirement already satisfied: pyparsing!=2.0.4,!=2.1.2,!=2.1.6,>=2.0.1 in c:\\users\\etri\\anaconda3\\lib\\site-packages (from matplotlib->imgaug) (2.4.6)\n",
      "Requirement already satisfied: python-dateutil>=2.1 in c:\\users\\etri\\anaconda3\\lib\\site-packages (from matplotlib->imgaug) (2.8.1)\n",
      "Requirement already satisfied: networkx>=2.0 in c:\\users\\etri\\anaconda3\\lib\\site-packages (from scikit-image>=0.14.2->imgaug) (2.4)\n",
      "Requirement already satisfied: PyWavelets>=0.4.0 in c:\\users\\etri\\anaconda3\\lib\\site-packages (from scikit-image>=0.14.2->imgaug) (1.1.1)\n",
      "Requirement already satisfied: setuptools in c:\\users\\etri\\anaconda3\\lib\\site-packages (from kiwisolver>=1.0.1->matplotlib->imgaug) (45.2.0.post20200210)\n",
      "Requirement already satisfied: decorator>=4.3.0 in c:\\users\\etri\\anaconda3\\lib\\site-packages (from networkx>=2.0->scikit-image>=0.14.2->imgaug) (4.4.1)\n"
     ]
    }
   ],
   "source": [
    "!pip install imgaug\n",
    "import imgaug as ia\n",
    "import imgaug.augmenters as iaa\n",
    "import imageio\n",
    "from imgaug.augmentables.bbs import BoundingBox, BoundingBoxesOnImage\n",
    "import cv2\n",
    "import glob\n",
    "import os\n",
    "from os import listdir"
   ]
  },
  {
   "cell_type": "code",
   "execution_count": 9,
   "metadata": {},
   "outputs": [
    {
     "name": "stdout",
     "output_type": "stream",
     "text": [
      "['drone (1).jpg', 'drone (1).txt', 'drone (2).jpg', 'drone (2).txt', 'drone (3).jpg', 'drone (3).txt', 'iaa.ipynb', 'img', 'label']\n"
     ]
    }
   ],
   "source": [
    "# 1.Rotation\n",
    "ia.seed(1)\n",
    "path = os.getcwd()\n",
    "print(listdir(path))"
   ]
  },
  {
   "cell_type": "code",
   "execution_count": 13,
   "metadata": {},
   "outputs": [
    {
     "name": "stdout",
     "output_type": "stream",
     "text": [
      "['drone (1).jpg', 'drone (2).jpg', 'drone (3).jpg']\n",
      "['drone (1).txt', 'drone (2).txt', 'drone (3).txt']\n"
     ]
    }
   ],
   "source": [
    "jpg_list = [file for file in listdir(path) if file.endswith(r'.jpg')]\n",
    "txt_list = [file for file in listdir(path) if file.endswith(r'.txt')]\n",
    "print(jpg_list)\n",
    "print(txt_list)"
   ]
  },
  {
   "cell_type": "code",
   "execution_count": 17,
   "metadata": {},
   "outputs": [
    {
     "name": "stdout",
     "output_type": "stream",
     "text": [
      "['0', '0.03463541666666667', '0.18333333333333332', '0.06927083333333334', '0.1574074074074074']\n",
      "['0', '0.03125', '0.17453703703703705', '0.0625', '0.11018518518518519']\n",
      "['0', '0.158359375', '0.18333333333333332', '0.09828645833333335', '0.09722222222222222']\n"
     ]
    },
    {
     "data": {
      "text/plain": [
       "[[0,\n",
       "  0.158359375,\n",
       "  0.18333333333333332,\n",
       "  0.09828645833333335,\n",
       "  0.09722222222222222]]"
      ]
     },
     "execution_count": 17,
     "metadata": {},
     "output_type": "execute_result"
    }
   ],
   "source": [
    "for file in jpg_list:\n",
    "    image = imageio.imread(path+'/'+file)\n",
    "for file in txt_list:\n",
    "    f = open(path+'/'+file)\n",
    "    boundingboxes = f.readlines()\n",
    "    for i in range(len(boundingboxes)):\n",
    "        boundingboxif = boundingboxes[i].split(\" \") # boundingboxif = [1,2,3,4,5]\n",
    "        print(boundingboxif)\n",
    "        for j in range(len(boundingboxif)):\n",
    "            if boundingboxif[j]=='0':\n",
    "                boundingboxif[j] = 0\n",
    "            else:\n",
    "                x = float(boundingboxif[j])\n",
    "                boundingboxif[j] = x\n",
    "        boundingboxes[i] = boundingboxif"
   ]
  },
  {
   "cell_type": "code",
   "execution_count": null,
   "metadata": {},
   "outputs": [],
   "source": [
    "# bounding box Calculating <object-class> <x> <y> <width> <height>\n",
    "# new bbox\n",
    "boundingbox_newif = []\n",
    "# all bbox allocating\n",
    "for i in range(len(boundingboxes)):\n",
    "    x_center = boundingboxes[i][1]\n",
    "    y_center = boundingboxes[i][2]\n",
    "    width = boundingboxes[i][3]\n",
    "    height = boundingboxes[i][4]\n",
    "\n",
    "    x1 = int(x_center - width/2)\n",
    "    x2 = int(x_center + width/2)\n",
    "    y1 = int(y_center - height/2)\n",
    "    y2 = int(y_center + height/2)\n",
    "    "
   ]
  },
  {
   "cell_type": "code",
   "execution_count": null,
   "metadata": {},
   "outputs": [],
   "source": []
  },
  {
   "cell_type": "markdown",
   "metadata": {},
   "source": []
  },
  {
   "cell_type": "code",
   "execution_count": 3,
   "metadata": {},
   "outputs": [
    {
     "name": "stdout",
     "output_type": "stream",
     "text": [
      "['drone (1).jpg', 'drone (2).jpg', 'drone (3).jpg']\n"
     ]
    }
   ],
   "source": [
    "# 1. load dataset\n",
    "images = []\n",
    "images_path = glob.glob(\"*.jpg\")\n",
    "print(images_path)"
   ]
  },
  {
   "cell_type": "code",
   "execution_count": 4,
   "metadata": {},
   "outputs": [],
   "source": [
    "for img_path in images_path:\n",
    "    img = cv2.imread(img_path)\n",
    "    images.append(img)"
   ]
  },
  {
   "cell_type": "code",
   "execution_count": 6,
   "metadata": {},
   "outputs": [
    {
     "ename": "SyntaxError",
     "evalue": "invalid syntax (<ipython-input-6-871fca98a2bd>, line 6)",
     "output_type": "error",
     "traceback": [
      "\u001b[1;36m  File \u001b[1;32m\"<ipython-input-6-871fca98a2bd>\"\u001b[1;36m, line \u001b[1;32m6\u001b[0m\n\u001b[1;33m    iaa.Fliplr(1)\u001b[0m\n\u001b[1;37m      ^\u001b[0m\n\u001b[1;31mSyntaxError\u001b[0m\u001b[1;31m:\u001b[0m invalid syntax\n"
     ]
    }
   ],
   "source": [
    "# 2. image augmentation\n",
    "augmentation = iaa.Sequential([\n",
    "    # Rotate\n",
    "    iaa.Rotate((-30,30))\n",
    "    # Flip (right left, up, down) 1과 0.5 차이\n",
    "    iaa.Fliplr(1)\n",
    "    iaa.Flipud(0.5)\n",
    "    # x,y축 방향으로 랜덤하게 움직이거나 회전\n",
    "    iaa.Affine(translate_percent={\"x\":(-0.5,0.5),\"y\":(-0.2,0.2)},rotate=(-30,30),scale=(0.5,1.5))\n",
    "    # Muliply 밝기 랜덤 조정\n",
    "    iaa.Multiply((0.8,1.2))\n",
    "    # Linearcontrast 대비 조정\n",
    "    iaa.LinearContrast((0.6,1.4))\n",
    "    # Perfom method below only sometimes\n",
    "    iaa.Sometimes(0.5,\n",
    "        # GaussianBlur\n",
    "        iaa.GaussianBlur((0.0,3.0)))\n",
    "    \n",
    "])\n",
    "\n"
   ]
  },
  {
   "cell_type": "code",
   "execution_count": 6,
   "metadata": {},
   "outputs": [
    {
     "ename": "",
     "evalue": "",
     "output_type": "error",
     "traceback": [
      "현재 셀 또는 이전 셀에서 코드를 실행하는 동안 Kernel이 충돌했습니다. 셀의 코드를 검토하여 오류의 가능한 원인을 식별하세요. 자세한 내용을 보려면 <a href='https://aka.ms/vscodeJupyterKernelCrash'> 여기 </a> 를 클릭하세요. 자세한 내용은 Jupyter <a href='command:jupyter.viewOutput'>로그</a>를 참조하세요."
     ]
    }
   ],
   "source": [
    "# 3. show images\n",
    "while True:\n",
    "    augmented_images = augmentation(images=images)\n",
    "    for img in augmented_images:\n",
    "        cv2.imshow(\"Image\",img)\n",
    "        cv2.waitKey(0)"
   ]
  },
  {
   "cell_type": "code",
   "execution_count": null,
   "metadata": {},
   "outputs": [],
   "source": []
  }
 ],
 "metadata": {
  "kernelspec": {
   "display_name": "Python 3.7.6 ('base')",
   "language": "python",
   "name": "python3"
  },
  "language_info": {
   "codemirror_mode": {
    "name": "ipython",
    "version": 3
   },
   "file_extension": ".py",
   "mimetype": "text/x-python",
   "name": "python",
   "nbconvert_exporter": "python",
   "pygments_lexer": "ipython3",
   "version": "3.7.6"
  },
  "orig_nbformat": 4,
  "vscode": {
   "interpreter": {
    "hash": "0da1d3d13677ac51d3156c69433cdf832579c44c6a0955c86c410024bf897dc6"
   }
  }
 },
 "nbformat": 4,
 "nbformat_minor": 2
}
